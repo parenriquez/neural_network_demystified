{
 "cells": [
  {
   "cell_type": "code",
   "execution_count": 19,
   "metadata": {},
   "outputs": [],
   "source": [
    "import numpy as np\n",
    "import matplotlib.pyplot as plt"
   ]
  },
  {
   "attachments": {},
   "cell_type": "markdown",
   "metadata": {},
   "source": [
    "In a neural network, the input matrix is often represented as a **row vector**, where each element of the vector represents a feature. However, in order to perform matrix multiplication with the weights matrix, the input matrix must be transposed to a **column vector**.\n",
    "\n",
    "The reason for transposing the input matrix is related to the way **matrix multiplication** works. When two matrices are multiplied, the number of columns in the first matrix must match the number of rows in the second matrix. In a neural network, **the input matrix represents a single training example, with each feature represented as a row vector.** The weights matrix represents the connections between the input and hidden layers of the network, with each row of the weights matrix corresponding to a single neuron in the hidden layer.\n",
    "\n",
    "To perform matrix multiplication between the input matrix and the weights matrix, the input matrix **needs to be transposed to a column vector**, *so that* the **number of columns matches the number of rows in the weights matrix**. The resulting product of the transpose of the input matrix and the weights matrix is a column vector, which represents the output of the hidden layer.\n",
    "\n",
    "In summary, the input matrix is transposed in a neural network before it is multiplied to the weights matrix in order to perform matrix multiplication that represents the connections between the input and hidden layers of the network. The resulting product is a column vector, which represents the output of the hidden layer."
   ]
  },
  {
   "cell_type": "code",
   "execution_count": 20,
   "metadata": {},
   "outputs": [
    {
     "data": {
      "text/plain": [
       "array([[  0.,  25.,  50.,  75., 100.]])"
      ]
     },
     "execution_count": 20,
     "metadata": {},
     "output_type": "execute_result"
    }
   ],
   "source": [
    "# Example\n",
    "# Here we initialize a row vector of shape (1,5) , in which each element represents a feature\n",
    "X = np.array([np.linspace(0,100,5)])\n",
    "X"
   ]
  },
  {
   "cell_type": "code",
   "execution_count": 21,
   "metadata": {},
   "outputs": [
    {
     "data": {
      "text/plain": [
       "(1, 5)"
      ]
     },
     "execution_count": 21,
     "metadata": {},
     "output_type": "execute_result"
    }
   ],
   "source": [
    "X.shape"
   ]
  },
  {
   "cell_type": "code",
   "execution_count": 22,
   "metadata": {},
   "outputs": [
    {
     "data": {
      "text/plain": [
       "array([[  0.],\n",
       "       [ 25.],\n",
       "       [ 50.],\n",
       "       [ 75.],\n",
       "       [100.]])"
      ]
     },
     "execution_count": 22,
     "metadata": {},
     "output_type": "execute_result"
    }
   ],
   "source": [
    "# We transpose our feature vector to a column vector \n",
    "# to prepare for matrix multiplication\n",
    "X = X.T\n",
    "X"
   ]
  },
  {
   "attachments": {},
   "cell_type": "markdown",
   "metadata": {},
   "source": [
    "This means that our input layer will have 5 neurons in it, arranged as a column vector."
   ]
  },
  {
   "cell_type": "code",
   "execution_count": 23,
   "metadata": {},
   "outputs": [
    {
     "data": {
      "text/plain": [
       "(3, 2)"
      ]
     },
     "execution_count": 23,
     "metadata": {},
     "output_type": "execute_result"
    }
   ],
   "source": [
    "# Example 2\n",
    "# We have an array of 3 examples, 2 elements per example\n",
    "X_2 = np.array([[3,5], [5,1], [10,2]], dtype=float)\n",
    "X_2.shape"
   ]
  },
  {
   "cell_type": "code",
   "execution_count": 24,
   "metadata": {},
   "outputs": [
    {
     "data": {
      "text/plain": [
       "array([[ 3.,  5., 10.],\n",
       "       [ 5.,  1.,  2.]])"
      ]
     },
     "execution_count": 24,
     "metadata": {},
     "output_type": "execute_result"
    }
   ],
   "source": [
    "X_2transposed = X_2.T\n",
    "X_2transposed"
   ]
  },
  {
   "cell_type": "code",
   "execution_count": 25,
   "metadata": {},
   "outputs": [
    {
     "data": {
      "text/plain": [
       "(2, 3)"
      ]
     },
     "execution_count": 25,
     "metadata": {},
     "output_type": "execute_result"
    }
   ],
   "source": [
    "X_2transposed.shape"
   ]
  },
  {
   "attachments": {},
   "cell_type": "markdown",
   "metadata": {},
   "source": [
    "This means that if we have 2 input features per example, our input layer will have 2 neurons. \n",
    "\n",
    "- **3**, **5**, and **10** will go to the **first** neuron\n",
    "- **5**,**1,** and **10** will go to the **second** neuron."
   ]
  },
  {
   "attachments": {},
   "cell_type": "markdown",
   "metadata": {},
   "source": [
    "**Data**\n",
    "\n",
    "Our data is composed of two input variables and one output variable. Our two input variables are **hours of sleep** and **hours of study**, while our output variable is **score on test**.\n",
    "\n",
    "We initially have three examples."
   ]
  },
  {
   "cell_type": "code",
   "execution_count": 26,
   "metadata": {},
   "outputs": [
    {
     "name": "stdout",
     "output_type": "stream",
     "text": [
      "[[ 3.  5.]\n",
      " [ 5.  1.]\n",
      " [10.  2.]]\n",
      "[[75.]\n",
      " [82.]\n",
      " [93.]]\n"
     ]
    }
   ],
   "source": [
    "X = np.array([[3,5], [5,1], [10,2]], dtype=float)\n",
    "y = np.array([[75],[82],[93]], dtype=float)\n",
    "\n",
    "print(X)\n",
    "print(y)"
   ]
  },
  {
   "attachments": {},
   "cell_type": "markdown",
   "metadata": {},
   "source": [
    "Our inputs are now arranged per example, with each example containing 2 features. In application, we do not need to specifically transpose our input data if it is laid out per example. Our neural network that we will build will be the one to take the first element of each example and pass it as an input to the first neuron of the first layer, while the second element will be passed as an input to the second neuron of the first layer."
   ]
  },
  {
   "attachments": {},
   "cell_type": "markdown",
   "metadata": {},
   "source": [
    "**Scaling our data through Min-max Normalization**\n",
    "\n",
    "We need to scale our data, because our input is in the range of single values, while our output is in the range of two digit values. This will help our neural network learn better."
   ]
  },
  {
   "cell_type": "code",
   "execution_count": 27,
   "metadata": {},
   "outputs": [
    {
     "data": {
      "text/plain": [
       "array([[0.22222222, 0.44444444],\n",
       "       [0.44444444, 0.        ],\n",
       "       [1.        , 0.11111111]])"
      ]
     },
     "execution_count": 27,
     "metadata": {},
     "output_type": "execute_result"
    }
   ],
   "source": [
    "X = (X - X.min()) / (X.max() - X.min())\n",
    "X "
   ]
  },
  {
   "cell_type": "code",
   "execution_count": 28,
   "metadata": {},
   "outputs": [
    {
     "data": {
      "text/plain": [
       "array([[0.        ],\n",
       "       [0.38888889],\n",
       "       [1.        ]])"
      ]
     },
     "execution_count": 28,
     "metadata": {},
     "output_type": "execute_result"
    }
   ],
   "source": [
    "y = (y - y.min()) / (y.max() - y.min())\n",
    "y"
   ]
  },
  {
   "attachments": {},
   "cell_type": "markdown",
   "metadata": {},
   "source": [
    "Now our input and output features are of the same scale."
   ]
  },
  {
   "attachments": {},
   "cell_type": "markdown",
   "metadata": {},
   "source": [
    "**Creating a Neural Network class in Python**"
   ]
  },
  {
   "attachments": {},
   "cell_type": "markdown",
   "metadata": {},
   "source": [
    "**Things to Remember:**\n",
    "\n",
    "1. Our input matrix is in the shape of (number of examples, number of features).\n",
    "2. Our weights matrix is in the shape of (number of neurons of the previous layer, number of neurons of the next layer).\n",
    "3. Our hidden layer is in the shape of (number of examples, number of neurons in the hidden layer)."
   ]
  },
  {
   "cell_type": "code",
   "execution_count": 29,
   "metadata": {},
   "outputs": [],
   "source": [
    "class Neural_Network():\n",
    "    def __init__(self):\n",
    "        # Define hyperparameters\n",
    "        self.input_layer_size = 2\n",
    "        self.output_layer_size = 1\n",
    "        self.hidden_layer_size = 3\n",
    "\n",
    "        # Weights (parameters)\n",
    "        self.W1 = np.random.randn(self.input_layer_size, self.hidden_layer_size)\n",
    "        self.W2 = np.random.randn(self.hidden_layer_size, self.output_layer_size)\n",
    "        # self.bias = np.random.randn(1, dtype=float)\n",
    "    def forward(self, X):\n",
    "        # Propagate inputs through network\n",
    "        self.z2 = np.dot(X,self.W1)\n",
    "        self.a2 = self.sigmoid(self.z2)\n",
    "        self.z3 = np.dot(self.a2, self.W2)\n",
    "        yHat = self.sigmoid(self.z3)\n",
    "\n",
    "        return yHat\n",
    "    \n",
    "    def sigmoid(self,z):\n",
    "        #applies sigmoid function element-wise, and returns the same shape as the input\n",
    "        return 1 / 1 + np.exp(-z)\n",
    "        "
   ]
  },
  {
   "attachments": {},
   "cell_type": "markdown",
   "metadata": {},
   "source": [
    "**Forward Propagation Notation of our Neural Network**\n",
    "\n",
    "$$ z^{(2)} = X^{T} \\cdot W^{(1)} $$\n",
    "\n",
    "$$ a^{(2)} = f(z^{(2)})  $$\n",
    "\n",
    "$$ z^{(3)} = a^{(3)} \\cdot W^{(2)} $$\n",
    "\n",
    "$$ \\hat{y} = f(z^{(3)}) $$"
   ]
  },
  {
   "cell_type": "code",
   "execution_count": 30,
   "metadata": {},
   "outputs": [
    {
     "data": {
      "text/plain": [
       "array([[0.22222222, 0.44444444],\n",
       "       [0.44444444, 0.        ],\n",
       "       [1.        , 0.11111111]])"
      ]
     },
     "execution_count": 30,
     "metadata": {},
     "output_type": "execute_result"
    }
   ],
   "source": [
    "X"
   ]
  },
  {
   "cell_type": "code",
   "execution_count": 31,
   "metadata": {},
   "outputs": [],
   "source": [
    "NN = Neural_Network()\n",
    "yhat = NN.forward(X)"
   ]
  },
  {
   "cell_type": "code",
   "execution_count": 32,
   "metadata": {},
   "outputs": [
    {
     "data": {
      "text/plain": [
       "array([[19.38427661],\n",
       "       [52.29225278],\n",
       "       [77.57190155]])"
      ]
     },
     "execution_count": 32,
     "metadata": {},
     "output_type": "execute_result"
    }
   ],
   "source": [
    "yhat"
   ]
  },
  {
   "cell_type": "code",
   "execution_count": 33,
   "metadata": {},
   "outputs": [
    {
     "data": {
      "text/plain": [
       "array([[0.        ],\n",
       "       [0.38888889],\n",
       "       [1.        ]])"
      ]
     },
     "execution_count": 33,
     "metadata": {},
     "output_type": "execute_result"
    }
   ],
   "source": [
    "y"
   ]
  },
  {
   "attachments": {},
   "cell_type": "markdown",
   "metadata": {},
   "source": [
    "Our predictions are still far from our true value since we have not trained our network."
   ]
  },
  {
   "attachments": {},
   "cell_type": "markdown",
   "metadata": {},
   "source": [
    "**Training our Network**\n",
    "\n",
    "It means minimizing a cost function, or the difference between our predictions and the true value.\n",
    "\n",
    "Our cost is a function of two things: **our examples, and the weights of our synapses**. We don't have much control on our data, but we can minimize the cost by changing the weights.\n",
    "\n",
    "$$ J(cost) = \\sum \\frac{1}{2} (y - \\hat{y})^{2} $$\n",
    "\n",
    "For our first weights matrix, `W1`, it has 9 weights in it. Say, we want to know how fast can we test some values to minimize the cost for **one** weight:"
   ]
  },
  {
   "cell_type": "code",
   "execution_count": 34,
   "metadata": {},
   "outputs": [],
   "source": [
    "import time\n",
    "\n",
    "weights_to_try = np.linspace(-5, 5, 1000)\n",
    "costs = np.zeros(1000)\n",
    "\n",
    "start = time.time()\n",
    "for i in range(1000):\n",
    "    NN.W1[0,0] = weights_to_try[i]\n",
    "    yhat = NN.forward(X)\n",
    "    costs[i] = 0.5 * sum((y-yhat)**2)\n",
    "\n",
    "end = time.time()"
   ]
  },
  {
   "cell_type": "code",
   "execution_count": 35,
   "metadata": {},
   "outputs": [
    {
     "data": {
      "text/plain": [
       "0.03986549377441406"
      ]
     },
     "execution_count": 35,
     "metadata": {},
     "output_type": "execute_result"
    }
   ],
   "source": [
    "time_elapsed = end - start\n",
    "time_elapsed"
   ]
  },
  {
   "cell_type": "code",
   "execution_count": 36,
   "metadata": {},
   "outputs": [
    {
     "data": {
      "image/png": "[encoded data removed]",
      "text/plain": [
       "<Figure size 640x480 with 1 Axes>"
      ]
     },
     "metadata": {},
     "output_type": "display_data"
    }
   ],
   "source": [
    "plt.plot(weights_to_try, costs)\n",
    "plt.ylabel('Cost')\n",
    "plt.xlabel('Weight')\n",
    "plt.show()"
   ]
  },
  {
   "attachments": {},
   "cell_type": "markdown",
   "metadata": {},
   "source": [
    "Say, we want to know two weights:"
   ]
  },
  {
   "cell_type": "code",
   "execution_count": 38,
   "metadata": {},
   "outputs": [],
   "source": [
    "import time\n",
    "\n",
    "weights_to_try = np.linspace(-5, 5, 1000)\n",
    "costs = np.zeros((1000,1000))\n",
    "\n",
    "start = time.time()\n",
    "for i in range(1000):\n",
    "    for j in range(1000):\n",
    "        NN.W1[0,0] = weights_to_try[i]\n",
    "        NN.W1[0,1] = weights_to_try[i]\n",
    "        yhat = NN.forward(X)\n",
    "        costs[i] = 0.5 * sum((y-yhat)**2)\n",
    "\n",
    "end = time.time()"
   ]
  },
  {
   "cell_type": "code",
   "execution_count": 39,
   "metadata": {},
   "outputs": [
    {
     "data": {
      "text/plain": [
       "24.67851948738098"
      ]
     },
     "execution_count": 39,
     "metadata": {},
     "output_type": "execute_result"
    }
   ],
   "source": [
    "time_elapsed = end - start\n",
    "time_elapsed"
   ]
  },
  {
   "attachments": {},
   "cell_type": "markdown",
   "metadata": {},
   "source": [
    "As we continue to add dimensions, searching through all 9 weights will take more than a lifetime."
   ]
  },
  {
   "cell_type": "code",
   "execution_count": 40,
   "metadata": {},
   "outputs": [
    {
     "name": "stdout",
     "output_type": "stream",
     "text": [
      "1268391679350583.5 years.\n"
     ]
    }
   ],
   "source": [
    "print(f\"{0.04*(1000**(9-1))/(3600*24*365)} years.\")"
   ]
  },
  {
   "attachments": {},
   "cell_type": "markdown",
   "metadata": {},
   "source": [
    "$$ z^{(2)} = X^{T} \\cdot W^{(1)} $$\n",
    "\n",
    "$$ a^{(2)} = f(z^{(2)})  $$\n",
    "\n",
    "$$ z^{(3)} = a^{(3)} \\cdot W^{(2)} $$\n",
    "\n",
    "$$ \\hat{y} = f(z^{(3)}) $$\n",
    "\n",
    "$$ J(cost) = \\sum \\frac{1}{2} (y - \\hat{y})^{2} $$\n",
    "\n",
    "$$ J = \\sum \\frac{1}{2} (y -f(f(X^{T} \\cdot W^{(1)}) W^{(2)}))^{2} $$\n",
    "\n",
    "Now, we have one big equation that uniquely determines our cost **J** from X, y, W1 and W2, we can use calculus to find exactly what we're looking for.\n",
    "\n",
    "We want to know which way is downhill, that is what is the **rate of change of J with respect to W**, or $\\frac {dJ}{dW}$.\n",
    "\n",
    "And in this case, since we are only considering one weight at a time, this is a partial derivative.\n",
    "\n",
    "$$\\frac {\\partial J}{\\partial W} $$\n",
    "\n",
    "We can derive an expression for $\\frac {\\partial J}{\\partial W} $ that will give us the rate of change of J with respect to W for any value of W.\n",
    "\n",
    "If $\\frac {\\partial J}{\\partial W} = + $, then the cost function is going uphill.\n",
    "\n",
    "If $\\frac {\\partial J}{\\partial W} = - $, then the cost function is going downhill.\n",
    "\n",
    "Now we can speed things up. Since we know which direction the cost decreases, we can save the time we would have used searching in the wrong direction. We can save more computational time by iteratively taking steps downhill, and stopping when the cost gets to **0**.\n",
    "\n",
    "This method is called **Gradient Descent**. Although it may not look impressive in one dimension, it can incredibly speed up things in the higher dimension. Gradient descent allows us to find needles in very, very, very large haystack.\n",
    "\n",
    "But there is a restriction. What if the cost function does not always go in the same direction. What if it goes up, then back down. The mathematical name for this path is called **non-convex**. And it could get gradient descent stuck in a **local minimum**, instead of the **global minimum**.\n",
    "\n",
    "One of the reasons that we choose our cost function to be the sum of square errors is to exploit the nature of quadratic equations. We know that the graph of $y=x^{2}$ is a nice convex parabola, and it turns out to be also true in higher dimensions (but not always).\n",
    "\n",
    "Another piece of the puzzle is, depending on how we use our data, it might not matter if our function is convex or not.\n",
    "\n",
    "If we use our examples one at a time, instead of all at once, sometimes it would not matter if our function is convex, we would still find a **good solution**. This is called **stochastic gradient descent**. So maybe we should not be afraid of non-convex loss function. ~ Yann Lecun (Who is afraid of non-convex loss functions?)\n",
    "\n",
    "For now we will use our examples all at once, where we find the cost from each example and then add them up, before we move to the direction of lower cost. This is called **batch gradient descent**, and the way we set up our cost function will make things nice and convex.\n"
   ]
  },
  {
   "cell_type": "code",
   "execution_count": null,
   "metadata": {},
   "outputs": [],
   "source": []
  }
 ],
 "metadata": {
  "kernelspec": {
   "display_name": "dem-env",
   "language": "python",
   "name": "python3"
  },
  "language_info": {
   "codemirror_mode": {
    "name": "ipython",
    "version": 3
   },
   "file_extension": ".py",
   "mimetype": "text/x-python",
   "name": "python",
   "nbconvert_exporter": "python",
   "pygments_lexer": "ipython3",
   "version": "3.9.13"
  },
  "orig_nbformat": 4
 },
 "nbformat": 4,
 "nbformat_minor": 2
}
